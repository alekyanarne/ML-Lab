{
  "nbformat": 4,
  "nbformat_minor": 0,
  "metadata": {
    "colab": {
      "name": "18wh1a0593_Program2",
      "provenance": []
    },
    "kernelspec": {
      "name": "python3",
      "display_name": "Python 3"
    },
    "language_info": {
      "name": "python"
    }
  },
  "cells": [
    {
      "cell_type": "code",
      "metadata": {
        "colab": {
          "base_uri": "https://localhost:8080/"
        },
        "id": "NbmBWhbKeaBX",
        "outputId": "df887cd0-120d-4b06-ef3d-329fe4e1d298"
      },
      "source": [
        "get_ipython().system('pip install db-sqlite3')\n",
        "import sqlite3"
      ],
      "execution_count": 1,
      "outputs": [
        {
          "output_type": "stream",
          "text": [
            "Collecting db-sqlite3\n",
            "  Downloading https://files.pythonhosted.org/packages/ff/00/e1f3d7bf1e0bff7c0574c0d5535c041e139d4ce43db196147e4c62f52ed5/db-sqlite3-0.0.1.tar.gz\n",
            "Collecting db\n",
            "  Downloading https://files.pythonhosted.org/packages/a9/22/f65d64c83e63790b3273c6adb3bff338ad594f46d84b41bd1f94593b40a6/db-0.1.1.tar.gz\n",
            "Collecting antiorm\n",
            "\u001b[?25l  Downloading https://files.pythonhosted.org/packages/0b/f8/71baa4824d9666c1be51d117119579a97f461ddbded48b2e01a6ad0554b5/antiorm-1.2.1.tar.gz (171kB)\n",
            "\u001b[K     |████████████████████████████████| 174kB 5.1MB/s \n",
            "\u001b[?25hBuilding wheels for collected packages: db-sqlite3, db, antiorm\n",
            "  Building wheel for db-sqlite3 (setup.py) ... \u001b[?25l\u001b[?25hdone\n",
            "  Created wheel for db-sqlite3: filename=db_sqlite3-0.0.1-cp37-none-any.whl size=1796 sha256=5c88d5da21dd9045ba5832d2e4648ad4e974dc651db27ff2859b53eff0412697\n",
            "  Stored in directory: /root/.cache/pip/wheels/e0/f8/cb/08e3a3a63bdea9ac3a0cccd140636b6cf94e3fb7df1070b12e\n",
            "  Building wheel for db (setup.py) ... \u001b[?25l\u001b[?25hdone\n",
            "  Created wheel for db: filename=db-0.1.1-cp37-none-any.whl size=3894 sha256=8d9c20454cb5da75e0d960b1898c981ffc8836f8976dc7d4fbed6d3db6af36c1\n",
            "  Stored in directory: /root/.cache/pip/wheels/30/eb/ba/237fa002d1d1b2e73cedcefd26a9db37c4b72c7e5156ea0501\n",
            "  Building wheel for antiorm (setup.py) ... \u001b[?25l\u001b[?25hdone\n",
            "  Created wheel for antiorm: filename=antiorm-1.2.1-cp37-none-any.whl size=31668 sha256=5002be409ce26577ea520aa0f519e826dbce59e5683b606fdf7991286a1a5641\n",
            "  Stored in directory: /root/.cache/pip/wheels/b0/91/4d/f8fe808786ff1cda9e7e99e1b1bbda9196ab26786017965313\n",
            "Successfully built db-sqlite3 db antiorm\n",
            "Installing collected packages: antiorm, db, db-sqlite3\n",
            "Successfully installed antiorm-1.2.1 db-0.1.1 db-sqlite3-0.0.1\n"
          ],
          "name": "stdout"
        }
      ]
    },
    {
      "cell_type": "code",
      "metadata": {
        "colab": {
          "base_uri": "https://localhost:8080/"
        },
        "id": "Kn6_xZvbejM1",
        "outputId": "f4d53409-8f49-4f96-9820-5d8d84538644"
      },
      "source": [
        "conn=sqlite3.connect('exp2.db')\n",
        "cur=conn.cursor()\n",
        "conn=sqlite3.connect('test.db')\n",
        "print('opened database successfully');"
      ],
      "execution_count": 2,
      "outputs": [
        {
          "output_type": "stream",
          "text": [
            "opened database successfully\n"
          ],
          "name": "stdout"
        }
      ]
    },
    {
      "cell_type": "code",
      "metadata": {
        "colab": {
          "base_uri": "https://localhost:8080/"
        },
        "id": "V6ssrv_2e7CX",
        "outputId": "05a745ea-b7d3-4ea3-c775-9aad561ef3c4"
      },
      "source": [
        "conn.execute('''CREATE TABLE COMPANY2\n",
        "            (ID INT PRIMARY KEY  NOT NULL,\n",
        "            NAME            TEXT NOT NULL,\n",
        "            AGE             INT  NOT NULL,\n",
        "            ADDRESS         CHAR(50),\n",
        "            SALARY          REAL);''')\n",
        "print(\"Table created successfully\");"
      ],
      "execution_count": 3,
      "outputs": [
        {
          "output_type": "stream",
          "text": [
            "Table created successfully\n"
          ],
          "name": "stdout"
        }
      ]
    },
    {
      "cell_type": "code",
      "metadata": {
        "colab": {
          "base_uri": "https://localhost:8080/"
        },
        "id": "UsMPYrRse-yO",
        "outputId": "b69ed2c8-e65d-4573-9728-9b12d583fd51"
      },
      "source": [
        "conn.execute(\"INSERT INTO COMPANY2 (ID,NAME,AGE,ADDRESS,SALARY)            VALUES (1, 'paul',32,'california',20000.00)\");\n",
        "conn.execute(\"INSERT INTO COMPANY2 (ID,NAME,AGE,ADDRESS,SALARY)            VALUES (2, 'Alien',25,'Texas',30000.00 )\");\n",
        "conn.execute(\"INSERT INTO COMPANY2 (ID,NAME,AGE,ADDRESS,SALARY)            VALUES (3, 'Teddy',23,'Norway',30000.00 )\");\n",
        "conn.execute(\"INSERT INTO COMPANY2 (ID,NAME,AGE,ADDRESS,SALARY)            VALUES (4, 'Mark',25,'Rich-Mond',15000.00 )\");\n",
        "conn.commit()\n",
        "print('Records created successfully');"
      ],
      "execution_count": 4,
      "outputs": [
        {
          "output_type": "stream",
          "text": [
            "Records created successfully\n"
          ],
          "name": "stdout"
        }
      ]
    },
    {
      "cell_type": "code",
      "metadata": {
        "colab": {
          "base_uri": "https://localhost:8080/"
        },
        "id": "YVxzOVSCfUw-",
        "outputId": "40ea392c-1f99-414b-a0a1-2c940ee0d71b"
      },
      "source": [
        "for row in conn.execute('select * from COMPANY2'):\n",
        "    print(row)"
      ],
      "execution_count": 5,
      "outputs": [
        {
          "output_type": "stream",
          "text": [
            "(1, 'paul', 32, 'california', 20000.0)\n",
            "(2, 'Alien', 25, 'Texas', 30000.0)\n",
            "(3, 'Teddy', 23, 'Norway', 30000.0)\n",
            "(4, 'Mark', 25, 'Rich-Mond', 15000.0)\n"
          ],
          "name": "stdout"
        }
      ]
    },
    {
      "cell_type": "code",
      "metadata": {
        "id": "HPycaR8UfcpK"
      },
      "source": [
        "conn.commit()"
      ],
      "execution_count": 6,
      "outputs": []
    },
    {
      "cell_type": "code",
      "metadata": {
        "id": "OW3oFBKYfgPG"
      },
      "source": [
        "conn.close()"
      ],
      "execution_count": 7,
      "outputs": []
    },
    {
      "cell_type": "code",
      "metadata": {
        "id": "1Zk2NoORfjMv"
      },
      "source": [
        ""
      ],
      "execution_count": null,
      "outputs": []
    }
  ]
}